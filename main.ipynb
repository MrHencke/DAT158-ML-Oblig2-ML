{
 "cells": [
  {
   "cell_type": "markdown",
   "metadata": {},
   "source": [
    "# TODO Rewrite\n",
    "## Table of Contents\n",
    "0. [Setting up imports](#imports) <pre>\n",
    "\n",
    "1. [Framing the problem](#framing) <pre>\n",
    "\n",
    "2. [Getting and understanding the data](#data-gather) <br/>\n",
    "    2.1 [Importing the data](#data-import)<br/>\n",
    "    2.2 [Data Exploration](#data-explore)<br/>\n",
    "    2.3 [Data Visualization](#data-visualize) <br/>\n",
    "    2.4 [Feature Engineering](#data-engineering) <pre>\n",
    "\n",
    "3. [Data Preparation (Pipelining)](#pipelining) <br/>\n",
    "    3.1 [Custom Attributes Pipeline](#idk) <br/>\n",
    "    3.2 [Categorical Attributes](#idk) <br/>\n",
    "    3.3 [Numerical Attributes](#idk) <pre>\n",
    "\n",
    "\n",
    "4. [Model Exploration](#models) <br/>\n",
    "    4.1 [Linear Regression](#linreg) <br/>\n",
    "    4.2 [Decision Tree Regression](#dtreg) <br/>\n",
    "    4.3 [Random Forest Regressor](#rfg) <br/>\n",
    "    4.4 [XGBoost Regressor](#xgb) <pre>\n",
    "\n",
    "5. [Comparison/Selection](#presentation)<br/>\n",
    "    5.1 [Comparison](#compare) <br/>\n",
    "    5.2 [Selected Model](#selected) <br/>\n",
    "    5.3 [Fine Tuning](#tuning) <pre>\n",
    "\n",
    "6. [Export](#export) <br/>\n",
    "    6.1 [Export as CSV](#csv) <br/>\n",
    "    6.2 [Write model to disk](#writedisk) <pre>\n",
    "\n",
    "7. [Sources and Credits](#creds)"
   ]
  },
  {
   "cell_type": "markdown",
   "metadata": {},
   "source": [
    "# Setting up imports <a id=\"imports\"></a>"
   ]
  },
  {
   "cell_type": "code",
   "execution_count": 1,
   "metadata": {},
   "outputs": [],
   "source": [
    "%matplotlib inline\n",
    "\n",
    "import pandas as pd\n",
    "import numpy as np\n",
    "import matplotlib.pyplot as plt\n",
    "import seaborn as sns\n",
    "from sklearn import model_selection\n",
    "from sklearn.metrics import classification_report, confusion_matrix, roc_curve, accuracy_score"
   ]
  },
  {
   "cell_type": "markdown",
   "metadata": {},
   "source": [
    "# Framing the problem <a id=\"framing\"></a>"
   ]
  },
  {
   "cell_type": "markdown",
   "metadata": {},
   "source": [
    "# Getting and understanding the data <a id=\"data-gather\"></a>"
   ]
  },
  {
   "cell_type": "markdown",
   "metadata": {},
   "source": [
    "## Importing the data <a id=\"data-import\"></a>"
   ]
  },
  {
   "cell_type": "code",
   "execution_count": 2,
   "metadata": {},
   "outputs": [],
   "source": [
    "df_train = pd.read_csv(\"datasets/fashion-mnist_train.csv\")"
   ]
  },
  {
   "cell_type": "code",
   "execution_count": 3,
   "metadata": {},
   "outputs": [],
   "source": [
    "df_test = pd.read_csv(\"datasets/fashion-mnist_test.csv\")"
   ]
  },
  {
   "cell_type": "code",
   "execution_count": 4,
   "metadata": {},
   "outputs": [],
   "source": [
    "df = pd.concat([df_test, df_train])"
   ]
  },
  {
   "cell_type": "markdown",
   "metadata": {},
   "source": [
    "## Data Exploration <a id=\"data-explore\"></a>"
   ]
  },
  {
   "cell_type": "markdown",
   "metadata": {},
   "source": [
    "## Data Visualization <a id=\"data-visualize\"></a>"
   ]
  },
  {
   "cell_type": "markdown",
   "metadata": {},
   "source": [
    "## Feature Engineering <a id=\"data-engineering\"></a>"
   ]
  },
  {
   "cell_type": "markdown",
   "metadata": {},
   "source": [
    "# Data Preparation (Pipelining) <a id=\"pipelining\"></a>"
   ]
  },
  {
   "cell_type": "markdown",
   "metadata": {},
   "source": [
    "## Custom Attributes Pipeline <a id=\"idk\"></a>"
   ]
  }
 ],
 "metadata": {
  "interpreter": {
   "hash": "161362581c5e242698d3103ed4f70d59c0b4c9ba59e6a7878f60943ef00e1f3c"
  },
  "kernelspec": {
   "display_name": "Python 3.9.7 64-bit ('dat158': conda)",
   "name": "python3"
  },
  "language_info": {
   "codemirror_mode": {
    "name": "ipython",
    "version": 3
   },
   "file_extension": ".py",
   "mimetype": "text/x-python",
   "name": "python",
   "nbconvert_exporter": "python",
   "pygments_lexer": "ipython3",
   "version": "3.9.7"
  },
  "orig_nbformat": 4
 },
 "nbformat": 4,
 "nbformat_minor": 2
}
