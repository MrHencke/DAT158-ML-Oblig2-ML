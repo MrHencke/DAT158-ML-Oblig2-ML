{
 "cells": [
  {
   "cell_type": "markdown",
   "source": [
    "Hello world!"
   ],
   "metadata": {}
  }
 ],
 "metadata": {
  "orig_nbformat": 4,
  "language_info": {
   "name": "python"
  }
 },
 "nbformat": 4,
 "nbformat_minor": 2
}